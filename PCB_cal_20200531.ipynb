{
 "cells": [
  {
   "cell_type": "markdown",
   "metadata": {},
   "source": [
    "## PCB 사양 입출력 프로그램"
   ]
  },
  {
   "cell_type": "markdown",
   "metadata": {},
   "source": [
    "### 프로그램 구조\n",
    "* PCB 사양 입력\n",
    "    1. PCB 사양 입력기에 PCB 품번과 사양을 입력한다.\n",
    "    2. PCB 사양 마스터 엑셀 시트가 1의 데이터를 입력 받는다.\n",
    "    \n",
    "  \n",
    "\n",
    "* PCB 사양 출력\n",
    "    1. PCB 사양 출력기에 PCB 품번을 입력한다.\n",
    "    2. PCB 사양 마스터 엑셀 시트에서 입력된 PCB의 사양 데이터를 PCB 사양 출력기에\n",
    "    3. PCB 사양 출력기에 입력한 PCB 품번의 사양을 출력한다."
   ]
  },
  {
   "cell_type": "code",
   "execution_count": 1,
   "metadata": {},
   "outputs": [],
   "source": [
    "import tkinter as tk\n",
    "from tkinter import font\n",
    "import requests\n",
    "from PIL import Image, ImageTk\n",
    "import pandas as pd"
   ]
  },
  {
   "cell_type": "code",
   "execution_count": 2,
   "metadata": {},
   "outputs": [
    {
     "data": {
      "text/plain": [
       "[]"
      ]
     },
     "execution_count": 2,
     "metadata": {},
     "output_type": "execute_result"
    }
   ],
   "source": [
    "a = []\n",
    "a"
   ]
  },
  {
   "cell_type": "code",
   "execution_count": 17,
   "metadata": {},
   "outputs": [
    {
     "data": {
      "text/plain": [
       "[[8], [8], [8], [8], [8], [8], [8], [8], [8], [8], [8]]"
      ]
     },
     "execution_count": 17,
     "metadata": {},
     "output_type": "execute_result"
    }
   ],
   "source": [
    "def test(n):\n",
    "    a.append([n])\n",
    "    \n",
    "test(8)\n",
    "a"
   ]
  },
  {
   "cell_type": "code",
   "execution_count": 18,
   "metadata": {},
   "outputs": [
    {
     "data": {
      "text/html": [
       "<div>\n",
       "<style scoped>\n",
       "    .dataframe tbody tr th:only-of-type {\n",
       "        vertical-align: middle;\n",
       "    }\n",
       "\n",
       "    .dataframe tbody tr th {\n",
       "        vertical-align: top;\n",
       "    }\n",
       "\n",
       "    .dataframe thead th {\n",
       "        text-align: right;\n",
       "    }\n",
       "</style>\n",
       "<table border=\"1\" class=\"dataframe\">\n",
       "  <thead>\n",
       "    <tr style=\"text-align: right;\">\n",
       "      <th></th>\n",
       "      <th>A</th>\n",
       "    </tr>\n",
       "  </thead>\n",
       "  <tbody>\n",
       "    <tr>\n",
       "      <td>0</td>\n",
       "      <td>8</td>\n",
       "    </tr>\n",
       "    <tr>\n",
       "      <td>1</td>\n",
       "      <td>8</td>\n",
       "    </tr>\n",
       "    <tr>\n",
       "      <td>2</td>\n",
       "      <td>8</td>\n",
       "    </tr>\n",
       "    <tr>\n",
       "      <td>3</td>\n",
       "      <td>8</td>\n",
       "    </tr>\n",
       "    <tr>\n",
       "      <td>4</td>\n",
       "      <td>8</td>\n",
       "    </tr>\n",
       "    <tr>\n",
       "      <td>5</td>\n",
       "      <td>8</td>\n",
       "    </tr>\n",
       "    <tr>\n",
       "      <td>6</td>\n",
       "      <td>8</td>\n",
       "    </tr>\n",
       "    <tr>\n",
       "      <td>7</td>\n",
       "      <td>8</td>\n",
       "    </tr>\n",
       "    <tr>\n",
       "      <td>8</td>\n",
       "      <td>8</td>\n",
       "    </tr>\n",
       "    <tr>\n",
       "      <td>9</td>\n",
       "      <td>8</td>\n",
       "    </tr>\n",
       "    <tr>\n",
       "      <td>10</td>\n",
       "      <td>8</td>\n",
       "    </tr>\n",
       "  </tbody>\n",
       "</table>\n",
       "</div>"
      ],
      "text/plain": [
       "    A\n",
       "0   8\n",
       "1   8\n",
       "2   8\n",
       "3   8\n",
       "4   8\n",
       "5   8\n",
       "6   8\n",
       "7   8\n",
       "8   8\n",
       "9   8\n",
       "10  8"
      ]
     },
     "execution_count": 18,
     "metadata": {},
     "output_type": "execute_result"
    }
   ],
   "source": [
    "b = pd.DataFrame(a, columns = [\"A\"])\n",
    "b"
   ]
  },
  {
   "cell_type": "code",
   "execution_count": null,
   "metadata": {},
   "outputs": [],
   "source": [
    "def make_list(num):\n",
    "    df = pd.DataFrame(columns=['A'])\n",
    "    for i in range(5):\n",
    "        df = df.append({'A': i}, ignore_index=True)\n",
    "    return df\n",
    "    \n",
    "make_list(4)"
   ]
  },
  {
   "cell_type": "code",
   "execution_count": null,
   "metadata": {},
   "outputs": [],
   "source": [
    "d = pd.DataFrame(columns = ['a'])"
   ]
  },
  {
   "cell_type": "code",
   "execution_count": null,
   "metadata": {},
   "outputs": [],
   "source": [
    "def make_list(num):\n",
    "    for i in range(10):\n",
    "        a = d.append({'a' : i},ignore_index=True)\n",
    "    return a\n",
    "make_list(4)"
   ]
  },
  {
   "cell_type": "code",
   "execution_count": null,
   "metadata": {},
   "outputs": [],
   "source": [
    "c = [[1,2]]\n",
    "d = pd.DataFrame(c, columns = ['a','b'])\n",
    "d"
   ]
  },
  {
   "cell_type": "code",
   "execution_count": null,
   "metadata": {},
   "outputs": [],
   "source": [
    "a = ['df', 'df']\n",
    "a = [a]\n",
    "b = pd.DataFrame(a, columns = ['a', 'b'])\n",
    "d = d.append(b)\n",
    "d\n",
    "#b.to_csv(\"C:/Users/User/Desktop/programming/PCB/background_mobis.csv\")"
   ]
  },
  {
   "cell_type": "code",
   "execution_count": null,
   "metadata": {},
   "outputs": [],
   "source": [
    "# PCB 입력기 이름 & tkinter 적용\n",
    "root = tk.Tk()\n",
    "\n",
    "# PCB 입력기 사이즈\n",
    "HEIGHT = 800 # 길이\n",
    "WIDTH = 650 # 넓이\n",
    "\n",
    "canvas = tk.Canvas(root, height = HEIGHT, width = WIDTH )\n",
    "canvas.pack()\n",
    "\n",
    "# PCB 입력기 배경\n",
    "\n",
    "background_image = tk.PhotoImage(file ='C:/Users/User/Desktop/programming/PCB/background_mobis.png')\n",
    "background_label = tk.Label(root, image = background_image)\n",
    "background_label.place(relwidth = 1, relheight = 1)\n",
    "\n",
    "# 계산기 기능\n",
    "\n",
    "    \n",
    "def get_pcb():\n",
    "    entry_list = []\n",
    "    a = entry_1.get()\n",
    "    b = entry_2.get()\n",
    "    entry_list.append(a)\n",
    "    entry_list.append(b)\n",
    "    \n",
    "    # 데이터프레임으로 변환\n",
    "    entry_list = [entry_list]\n",
    "    entry_df = pd.DataFrame(entry_list, columns =['품번', '품명'])\n",
    "    \n",
    "    print(entry_df)\n",
    "    \n",
    "    #label['text'] = format_response(entry_df)\n",
    "\n",
    "def format_response(entry_df):\n",
    "    try:\n",
    "        a = entry_df\n",
    "    except:\n",
    "        a = '다시 입력하세요'\n",
    "    return a\n",
    "\n",
    "    \n",
    "# PCB 입력기 상단 프레임 1\n",
    "frame = tk.Frame(root, bg='#80c1ff', bd = 5)\n",
    "frame.place(relx=0.5, rely=0.05,relwidth = 0.9 , relheight =0.4, anchor = 'n')\n",
    "\n",
    "# PCB 입력기_1 라벨_품번\n",
    "label_1 = tk.Label(frame, font = ('맑은 고딕', 14), text = '품번')\n",
    "label_1.grid(row=1, column = 1, padx = 15, pady =15, ipadx = 7, ipady = 7)\n",
    "#label_1.place(relx=0.5,rely=0.1,relwidth = 0.25,relheight =0.1)\n",
    "\n",
    "# PCB 입력기_1 라벨_입력\n",
    "entry_1 = tk.Entry(frame, font = ('맑은 고딕', 14))\n",
    "entry_1.grid(row=1, column = 2, padx = 10, pady =10, ipadx = 100, ipady = 7)\n",
    "#entry_1.place(relx=0.2,rely=0.1,relwidth = 0.25, relheight =0.1)\n",
    "\n",
    "# PCB 입력기_2 라벨_품명\n",
    "label_2 = tk.Label(frame, font = ('맑은 고딕', 14), text = '품명')\n",
    "label_2.grid(row=2, column = 1, padx = 15, pady =15, ipadx = 7, ipady = 7)\n",
    "\n",
    "# PCB 입력기_2 라벨_품명\n",
    "entry_2 = tk.Entry(frame, font = ('맑은 고딕', 14))\n",
    "entry_2.grid(row=2, column = 2, padx = 10, pady =10, ipadx = 100, ipady = 7)\n",
    "\n",
    "# PCB 입력기 상단 프레임_클릭창\n",
    "button = tk.Button(frame, text = \"Get PCB\",font = ('맑은 고딕', 14), command = lambda: get_pcb())\n",
    "button.grid(row= 3, column = 1, padx = 10, pady =10, ipadx = 10, ipady = 7)\n",
    "\n",
    "# PCB 입력기 결과 출력 프레임\n",
    "lower_frame = tk.Frame(root, bg='#80c1ff', bd = 5)\n",
    "lower_frame.place(relx=0.5, rely=0.8,relwidth = 0.9, relheight =0.1, anchor ='n')\n",
    "\n",
    "# PCB 입력기 결과 출력 라벨\n",
    "label = tk.Label(lower_frame, font = ('맑은 고딕', 14), anchor = 'nw', justify = 'left', bd = 5)\n",
    "label.place(relx=0.5, rely=0.1,relwidth = 0.9, relheight =0.8, anchor ='n')\n",
    "# label.grid(row=1, column = 1)\n",
    "# label.pack(side = 'right', fill = 'both')\n",
    "\n",
    "#entry.pack(side = 'left', fill = 'both')\n",
    "# entry.grid(row=2, column = 2)\n",
    "root.mainloop()"
   ]
  },
  {
   "cell_type": "code",
   "execution_count": null,
   "metadata": {},
   "outputs": [],
   "source": []
  },
  {
   "cell_type": "code",
   "execution_count": null,
   "metadata": {},
   "outputs": [],
   "source": []
  },
  {
   "cell_type": "code",
   "execution_count": null,
   "metadata": {},
   "outputs": [],
   "source": []
  },
  {
   "cell_type": "code",
   "execution_count": null,
   "metadata": {},
   "outputs": [],
   "source": []
  }
 ],
 "metadata": {
  "kernelspec": {
   "display_name": "Python 3",
   "language": "python",
   "name": "python3"
  },
  "language_info": {
   "codemirror_mode": {
    "name": "ipython",
    "version": 3
   },
   "file_extension": ".py",
   "mimetype": "text/x-python",
   "name": "python",
   "nbconvert_exporter": "python",
   "pygments_lexer": "ipython3",
   "version": "3.7.4"
  }
 },
 "nbformat": 4,
 "nbformat_minor": 2
}
